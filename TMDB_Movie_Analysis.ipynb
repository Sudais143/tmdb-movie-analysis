{
 "cells": [
  {
   "cell_type": "markdown",
   "id": "e845cfc9",
   "metadata": {},
   "source": [
    "# TMDB Movie Data Analysis Pipeline\n",
    "\n",
    "## Project Objectives:\n",
    "- **API Data Extraction**: Fetch movie data from TMDB API\n",
    "- **Data Cleaning & Transformation**: Process and structure data for analysis\n",
    "- **Exploratory Data Analysis (EDA)**: Understand trends and patterns\n",
    "- **Advanced Filtering & Ranking**: Identify best/worst movies by metrics\n",
    "- **Franchise & Director Analysis**: Performance analysis over time\n",
    "- **Visualization & Insights**: Present findings with visualizations"
   ]
  },
  {
   "cell_type": "markdown",
   "id": "2564c1cf",
   "metadata": {},
   "source": [
    "## Import Required Libraries"
   ]
  },
  {
   "cell_type": "code",
   "execution_count": 108,
   "id": "796ae428",
   "metadata": {},
   "outputs": [
    {
     "name": "stdout",
     "output_type": "stream",
     "text": [
      "Libraries imported successfully\n"
     ]
    }
   ],
   "source": [
    "import pandas as pd\n",
    "import requests\n",
    "import numpy as np\n",
    "import json\n",
    "from datetime import datetime\n",
    "import warnings\n",
    "warnings.filterwarnings('ignore')\n",
    "import matplotlib.pyplot as plt\n",
    "import seaborn as sns\n",
    "plt.style.use('default')\n",
    "sns.set_palette(\"husl\")\n",
    "\n",
    "print(\"Libraries imported successfully\")"
   ]
  },
  {
   "cell_type": "markdown",
   "id": "a07b83ae",
   "metadata": {},
   "source": [
    "## Step 1: Fetch Movie Data from API\n",
    "\n",
    "We'll fetch specific movies using their TMDB IDs and store the data in a Pandas DataFrame."
   ]
  },
  {
   "cell_type": "code",
   "execution_count": 109,
   "id": "a8bde9f7",
   "metadata": {},
   "outputs": [],
   "source": [
    "API_KEY = \"452a05ac647353f7965becf2f0e24c3b\"\n",
    "BASE_URL = \"https://api.themoviedb.org/3/\"\n",
    "\n",
    "movie_ids = [0, 299534, 19995, 140607, 299536, 597, 135397, 420818, 24428, \n",
    "             168259, 99861, 284054, 12445, 181808, 330457, 351286, 109445, \n",
    "             321612, 260513]"
   ]
  },
  {
   "cell_type": "code",
   "execution_count": 110,
   "id": "9c81b46d",
   "metadata": {},
   "outputs": [],
   "source": [
    "def fetch_movie_details(movie_id, api_key):\n",
    "    try:\n",
    "        movie_url = f\"{BASE_URL}movie/{movie_id}\"\n",
    "        params = {'api_key': api_key}\n",
    "        \n",
    "        response = requests.get(movie_url, params=params)\n",
    "        \n",
    "        if response.status_code == 200:\n",
    "            movie_data = response.json()\n",
    "            \n",
    "            credits_url = f\"{BASE_URL}movie/{movie_id}/credits\"\n",
    "            credits_response = requests.get(credits_url, params=params)\n",
    "            \n",
    "            director = None\n",
    "            main_actors = []\n",
    "            \n",
    "            if credits_response.status_code == 200:\n",
    "                credits_data = credits_response.json()\n",
    "                \n",
    "                for crew_member in credits_data.get('crew', []):\n",
    "                    if crew_member.get('job') == 'Director':\n",
    "                        director = crew_member.get('name')\n",
    "                        break\n",
    "                \n",
    "                main_actors = [actor['name'] for actor in credits_data.get('cast', [])[:5]]\n",
    "            \n",
    "            return {\n",
    "                'id': movie_data.get('id'),\n",
    "                'title': movie_data.get('title'),\n",
    "                'release_date': movie_data.get('release_date'),\n",
    "                'runtime': movie_data.get('runtime'),\n",
    "                'budget': movie_data.get('budget', 0),\n",
    "                'revenue': movie_data.get('revenue', 0),\n",
    "                'vote_average': movie_data.get('vote_average'),\n",
    "                'vote_count': movie_data.get('vote_count'),\n",
    "                'popularity': movie_data.get('popularity'),\n",
    "                'genres': [genre['name'] for genre in movie_data.get('genres', [])],\n",
    "                'director': director,\n",
    "                'main_actors': main_actors,\n",
    "                'production_companies': [company['name'] for company in movie_data.get('production_companies', [])],\n",
    "                'production_countries': [country['name'] for country in movie_data.get('production_countries', [])],\n",
    "                'original_language': movie_data.get('original_language'),\n",
    "                'overview': movie_data.get('overview'),\n",
    "                'status': movie_data.get('status')\n",
    "            }\n",
    "        else:\n",
    "            print(f\"Failed to fetch movie {movie_id}: {response.status_code}\")\n",
    "            return None\n",
    "            \n",
    "    except Exception as e:\n",
    "        print(f\"Error fetching movie {movie_id}: {str(e)}\")\n",
    "        return None"
   ]
  },
  {
   "cell_type": "code",
   "execution_count": 111,
   "id": "1b2e9748",
   "metadata": {},
   "outputs": [
    {
     "name": "stdout",
     "output_type": "stream",
     "text": [
      " Avengers: Endgame (2019)\n",
      " Avatar (2009)\n",
      " Star Wars: The Force Awakens (2015)\n",
      " Avengers: Infinity War (2018)\n",
      " Titanic (1997)\n",
      " Jurassic World (2015)\n",
      " The Lion King (2019)\n",
      " The Avengers (2012)\n",
      " Furious 7 (2015)\n",
      " Avengers: Age of Ultron (2015)\n",
      " Black Panther (2018)\n",
      " Harry Potter and the Deathly Hallows: Part 2 (2011)\n",
      " Star Wars: The Last Jedi (2017)\n",
      " Frozen II (2019)\n",
      " Jurassic World: Fallen Kingdom (2018)\n",
      " Frozen (2013)\n",
      " Beauty and the Beast (2017)\n",
      " Incredibles 2 (2018)\n",
      "Total movies loaded: 18\n"
     ]
    }
   ],
   "source": [
    "movies_data = []\n",
    "\n",
    "for movie_id in movie_ids:\n",
    "    if movie_id == 0:\n",
    "        continue\n",
    "    \n",
    "    movie_data = fetch_movie_details(movie_id, API_KEY)\n",
    "    \n",
    "    if movie_data:\n",
    "        movies_data.append(movie_data)\n",
    "        print(f\" {movie_data['title']} ({movie_data['release_date'][:4]})\")\n",
    "\n",
    "movies_df = pd.DataFrame(movies_data)\n",
    "print(f\"Total movies loaded: {len(movies_df)}\")"
   ]
  },
  {
   "cell_type": "code",
   "execution_count": 112,
   "id": "5dfb6bc3",
   "metadata": {},
   "outputs": [
    {
     "data": {
      "text/html": [
       "<div>\n",
       "<style scoped>\n",
       "    .dataframe tbody tr th:only-of-type {\n",
       "        vertical-align: middle;\n",
       "    }\n",
       "\n",
       "    .dataframe tbody tr th {\n",
       "        vertical-align: top;\n",
       "    }\n",
       "\n",
       "    .dataframe thead th {\n",
       "        text-align: right;\n",
       "    }\n",
       "</style>\n",
       "<table border=\"1\" class=\"dataframe\">\n",
       "  <thead>\n",
       "    <tr style=\"text-align: right;\">\n",
       "      <th></th>\n",
       "      <th>title</th>\n",
       "      <th>release_date</th>\n",
       "      <th>director</th>\n",
       "      <th>budget</th>\n",
       "      <th>revenue</th>\n",
       "      <th>vote_average</th>\n",
       "    </tr>\n",
       "  </thead>\n",
       "  <tbody>\n",
       "    <tr>\n",
       "      <th>0</th>\n",
       "      <td>Avengers: Endgame</td>\n",
       "      <td>2019-04-24</td>\n",
       "      <td>Joe Russo</td>\n",
       "      <td>356000000</td>\n",
       "      <td>2799439100</td>\n",
       "      <td>8.238</td>\n",
       "    </tr>\n",
       "    <tr>\n",
       "      <th>1</th>\n",
       "      <td>Avatar</td>\n",
       "      <td>2009-12-15</td>\n",
       "      <td>James Cameron</td>\n",
       "      <td>237000000</td>\n",
       "      <td>2923706026</td>\n",
       "      <td>7.594</td>\n",
       "    </tr>\n",
       "    <tr>\n",
       "      <th>2</th>\n",
       "      <td>Star Wars: The Force Awakens</td>\n",
       "      <td>2015-12-15</td>\n",
       "      <td>J.J. Abrams</td>\n",
       "      <td>245000000</td>\n",
       "      <td>2068223624</td>\n",
       "      <td>7.255</td>\n",
       "    </tr>\n",
       "    <tr>\n",
       "      <th>3</th>\n",
       "      <td>Avengers: Infinity War</td>\n",
       "      <td>2018-04-25</td>\n",
       "      <td>Anthony Russo</td>\n",
       "      <td>300000000</td>\n",
       "      <td>2052415039</td>\n",
       "      <td>8.236</td>\n",
       "    </tr>\n",
       "    <tr>\n",
       "      <th>4</th>\n",
       "      <td>Titanic</td>\n",
       "      <td>1997-11-18</td>\n",
       "      <td>James Cameron</td>\n",
       "      <td>200000000</td>\n",
       "      <td>2264162353</td>\n",
       "      <td>7.905</td>\n",
       "    </tr>\n",
       "  </tbody>\n",
       "</table>\n",
       "</div>"
      ],
      "text/plain": [
       "                          title release_date       director     budget  \\\n",
       "0             Avengers: Endgame   2019-04-24      Joe Russo  356000000   \n",
       "1                        Avatar   2009-12-15  James Cameron  237000000   \n",
       "2  Star Wars: The Force Awakens   2015-12-15    J.J. Abrams  245000000   \n",
       "3        Avengers: Infinity War   2018-04-25  Anthony Russo  300000000   \n",
       "4                       Titanic   1997-11-18  James Cameron  200000000   \n",
       "\n",
       "      revenue  vote_average  \n",
       "0  2799439100         8.238  \n",
       "1  2923706026         7.594  \n",
       "2  2068223624         7.255  \n",
       "3  2052415039         8.236  \n",
       "4  2264162353         7.905  "
      ]
     },
     "metadata": {},
     "output_type": "display_data"
    },
    {
     "name": "stdout",
     "output_type": "stream",
     "text": [
      "<class 'pandas.core.frame.DataFrame'>\n",
      "RangeIndex: 18 entries, 0 to 17\n",
      "Data columns (total 17 columns):\n",
      " #   Column                Non-Null Count  Dtype  \n",
      "---  ------                --------------  -----  \n",
      " 0   id                    18 non-null     int64  \n",
      " 1   title                 18 non-null     object \n",
      " 2   release_date          18 non-null     object \n",
      " 3   runtime               18 non-null     int64  \n",
      " 4   budget                18 non-null     int64  \n",
      " 5   revenue               18 non-null     int64  \n",
      " 6   vote_average          18 non-null     float64\n",
      " 7   vote_count            18 non-null     int64  \n",
      " 8   popularity            18 non-null     float64\n",
      " 9   genres                18 non-null     object \n",
      " 10  director              18 non-null     object \n",
      " 11  main_actors           18 non-null     object \n",
      " 12  production_companies  18 non-null     object \n",
      " 13  production_countries  18 non-null     object \n",
      " 14  original_language     18 non-null     object \n",
      " 15  overview              18 non-null     object \n",
      " 16  status                18 non-null     object \n",
      "dtypes: float64(2), int64(5), object(10)\n",
      "memory usage: 2.5+ KB\n"
     ]
    }
   ],
   "source": [
    "display(movies_df[['title', 'release_date', 'director', 'budget', 'revenue', 'vote_average']].head())\n",
    "movies_df.info()"
   ]
  },
  {
   "cell_type": "markdown",
   "id": "08124fe1",
   "metadata": {},
   "source": [
    "## Step 2: Data Cleaning and Preprocessing\n",
    "\n",
    "Now we'll clean and preprocess the raw movie data to prepare it for analysis."
   ]
  },
  {
   "cell_type": "code",
   "execution_count": 113,
   "id": "8beedf1f",
   "metadata": {},
   "outputs": [
    {
     "name": "stdout",
     "output_type": "stream",
     "text": [
      "Dataset shape: (18, 17)\n",
      "Columns: ['id', 'title', 'release_date', 'runtime', 'budget', 'revenue', 'vote_average', 'vote_count', 'popularity', 'genres', 'director', 'main_actors', 'production_companies', 'production_countries', 'original_language', 'overview', 'status']\n",
      "No missing values\n"
     ]
    }
   ],
   "source": [
    "# Initial Data Inspection\n",
    "print(f\"Dataset shape: {movies_df.shape}\")\n",
    "print(f\"Columns: {list(movies_df.columns)}\")\n",
    "\n",
    "missing_values = movies_df.isnull().sum()\n",
    "if missing_values.sum() > 0:\n",
    "    print(\"Missing values:\")\n",
    "    for col, missing in missing_values.items():\n",
    "        if missing > 0:\n",
    "            print(f\"  {col}: {missing}\")\n",
    "else:\n",
    "    print(\"No missing values\")"
   ]
  },
  {
   "cell_type": "code",
   "execution_count": 114,
   "id": "325a3a83",
   "metadata": {},
   "outputs": [
    {
     "name": "stdout",
     "output_type": "stream",
     "text": [
      "New shape: (18, 17)\n"
     ]
    }
   ],
   "source": [
    "# Drop irrelevant columns\n",
    "columns_to_drop = ['adult', 'imdb_id', 'original_title', 'video', 'homepage']\n",
    "existing_columns_to_drop = [col for col in columns_to_drop if col in movies_df.columns]\n",
    "\n",
    "if existing_columns_to_drop:\n",
    "    movies_df = movies_df.drop(columns=existing_columns_to_drop)\n",
    "    print(f\"Dropped columns: {existing_columns_to_drop}\")\n",
    "\n",
    "print(f\"New shape: {movies_df.shape}\")"
   ]
  },
  {
   "cell_type": "code",
   "execution_count": 115,
   "id": "05c6b839",
   "metadata": {},
   "outputs": [
    {
     "name": "stdout",
     "output_type": "stream",
     "text": [
      "Available columns:\n",
      "  belongs_to_collection: Not found\n",
      "  genres: Found\n",
      "  production_countries: Found\n",
      "  production_companies: Found\n",
      "  spoken_languages: Not found\n"
     ]
    }
   ],
   "source": [
    "# Check available columns for processing\n",
    "json_columns = ['belongs_to_collection', 'genres', 'production_countries', \n",
    "                'production_companies', 'spoken_languages']\n",
    "\n",
    "print(\"Available columns:\")\n",
    "for col in json_columns:\n",
    "    if col in movies_df.columns:\n",
    "        print(f\"  {col}: Found\")\n",
    "    else:\n",
    "        print(f\"  {col}: Not found\")"
   ]
  },
  {
   "cell_type": "code",
   "execution_count": 116,
   "id": "6a51da4a",
   "metadata": {},
   "outputs": [
    {
     "name": "stdout",
     "output_type": "stream",
     "text": [
      "Dataset shape after cleaning: (18, 22)\n"
     ]
    }
   ],
   "source": [
    "# Extract and clean key data points\n",
    "def list_to_pipe_separated(data_list):\n",
    "    if isinstance(data_list, list) and len(data_list) > 0:\n",
    "        return \"|\".join(str(item) for item in data_list)\n",
    "    return \"\"\n",
    "\n",
    "# Create cleaned columns\n",
    "if 'belongs_to_collection' not in movies_df.columns:\n",
    "    movies_df['collection_name'] = \"\"\n",
    "\n",
    "if 'genres' in movies_df.columns:\n",
    "    movies_df['genre_names'] = movies_df['genres'].apply(list_to_pipe_separated)\n",
    "else:\n",
    "    movies_df['genre_names'] = \"\"\n",
    "\n",
    "if 'spoken_languages' not in movies_df.columns:\n",
    "    movies_df['spoken_languages_clean'] = movies_df['original_language'].astype(str)\n",
    "else:\n",
    "    movies_df['spoken_languages_clean'] = movies_df['spoken_languages'].apply(list_to_pipe_separated)\n",
    "\n",
    "if 'production_countries' in movies_df.columns:\n",
    "    movies_df['production_countries_clean'] = movies_df['production_countries'].apply(list_to_pipe_separated)\n",
    "else:\n",
    "    movies_df['production_countries_clean'] = \"\"\n",
    "\n",
    "if 'production_companies' in movies_df.columns:\n",
    "    movies_df['production_companies_clean'] = movies_df['production_companies'].apply(list_to_pipe_separated)\n",
    "else:\n",
    "    movies_df['production_companies_clean'] = \"\"\n",
    "\n",
    "print(f\"Dataset shape after cleaning: {movies_df.shape}\")"
   ]
  },
  {
   "cell_type": "code",
   "execution_count": 117,
   "id": "d3cf9fac",
   "metadata": {},
   "outputs": [
    {
     "name": "stdout",
     "output_type": "stream",
     "text": [
      "\n",
      "genre_names:\n",
      "  Adventure: 15\n",
      "  Action: 12\n",
      "  Science Fiction: 10\n",
      "  Fantasy: 5\n",
      "  Family: 5\n",
      "  Unique: 14, Empty: 0\n",
      "\n",
      "spoken_languages_clean:\n",
      "  en: 18\n",
      "  Unique: 1, Empty: 0\n",
      "\n",
      "production_countries_clean:\n",
      "  United States of America: 16\n",
      "  United States of America|United Kingdom: 1\n",
      "  United Kingdom|United States of America: 1\n",
      "  Unique: 3, Empty: 0\n",
      "\n",
      "production_companies_clean:\n",
      "  Marvel Studios: 5\n",
      "  Walt Disney Animation Studios: 2\n",
      "  Dune Entertainment|Lightstorm Entertainment|20th Century Fox|Ingenious Media: 1\n",
      "  Paramount Pictures|20th Century Fox|Lightstorm Entertainment: 1\n",
      "  Lucasfilm Ltd.|Bad Robot: 1\n",
      "  Unique: 13, Empty: 0\n"
     ]
    }
   ],
   "source": [
    "# Inspect extracted columns\n",
    "def show_value_counts(series, column_name, top_n=5):\n",
    "    print(f\"\\n{column_name}:\")\n",
    "    \n",
    "    if series.empty:\n",
    "        print(\"  No data\")\n",
    "        return\n",
    "    \n",
    "    non_empty = series[series.notna() & (series != \"\")]\n",
    "    \n",
    "    if len(non_empty) == 0:\n",
    "        print(\"  All empty\")\n",
    "        return\n",
    "    \n",
    "    if \"|\" in str(non_empty.iloc[0]):\n",
    "        all_items = []\n",
    "        for value in non_empty:\n",
    "            items = str(value).split(\"|\")\n",
    "            all_items.extend([item.strip() for item in items if item.strip()])\n",
    "        \n",
    "        if all_items:\n",
    "            counts = pd.Series(all_items).value_counts().head(top_n)\n",
    "            for item, count in counts.items():\n",
    "                print(f\"  {item}: {count}\")\n",
    "    else:\n",
    "        counts = non_empty.value_counts().head(top_n)\n",
    "        for value, count in counts.items():\n",
    "            print(f\"  {value}: {count}\")\n",
    "    \n",
    "    print(f\"  Unique: {len(non_empty.unique())}, Empty: {len(series) - len(non_empty)}\")\n",
    "\n",
    "# Show value counts for cleaned columns\n",
    "columns_to_inspect = ['genre_names', 'spoken_languages_clean', \n",
    "                     'production_countries_clean', 'production_companies_clean']\n",
    "\n",
    "for col in columns_to_inspect:\n",
    "    if col in movies_df.columns:\n",
    "        show_value_counts(movies_df[col], col)"
   ]
  },
  {
   "cell_type": "code",
   "execution_count": 118,
   "id": "18e14651",
   "metadata": {},
   "outputs": [
    {
     "name": "stdout",
     "output_type": "stream",
     "text": [
      "Final dataset: (18, 22)\n"
     ]
    },
    {
     "data": {
      "text/html": [
       "<div>\n",
       "<style scoped>\n",
       "    .dataframe tbody tr th:only-of-type {\n",
       "        vertical-align: middle;\n",
       "    }\n",
       "\n",
       "    .dataframe tbody tr th {\n",
       "        vertical-align: top;\n",
       "    }\n",
       "\n",
       "    .dataframe thead th {\n",
       "        text-align: right;\n",
       "    }\n",
       "</style>\n",
       "<table border=\"1\" class=\"dataframe\">\n",
       "  <thead>\n",
       "    <tr style=\"text-align: right;\">\n",
       "      <th></th>\n",
       "      <th>title</th>\n",
       "      <th>release_date</th>\n",
       "      <th>genre_names</th>\n",
       "      <th>production_countries_clean</th>\n",
       "      <th>director</th>\n",
       "    </tr>\n",
       "  </thead>\n",
       "  <tbody>\n",
       "    <tr>\n",
       "      <th>0</th>\n",
       "      <td>Avengers: Endgame</td>\n",
       "      <td>2019-04-24</td>\n",
       "      <td>Adventure|Science Fiction|Action</td>\n",
       "      <td>United States of America</td>\n",
       "      <td>Joe Russo</td>\n",
       "    </tr>\n",
       "    <tr>\n",
       "      <th>1</th>\n",
       "      <td>Avatar</td>\n",
       "      <td>2009-12-15</td>\n",
       "      <td>Action|Adventure|Fantasy|Science Fiction</td>\n",
       "      <td>United States of America|United Kingdom</td>\n",
       "      <td>James Cameron</td>\n",
       "    </tr>\n",
       "    <tr>\n",
       "      <th>2</th>\n",
       "      <td>Star Wars: The Force Awakens</td>\n",
       "      <td>2015-12-15</td>\n",
       "      <td>Adventure|Action|Science Fiction</td>\n",
       "      <td>United States of America</td>\n",
       "      <td>J.J. Abrams</td>\n",
       "    </tr>\n",
       "  </tbody>\n",
       "</table>\n",
       "</div>"
      ],
      "text/plain": [
       "                          title release_date  \\\n",
       "0             Avengers: Endgame   2019-04-24   \n",
       "1                        Avatar   2009-12-15   \n",
       "2  Star Wars: The Force Awakens   2015-12-15   \n",
       "\n",
       "                                genre_names  \\\n",
       "0          Adventure|Science Fiction|Action   \n",
       "1  Action|Adventure|Fantasy|Science Fiction   \n",
       "2          Adventure|Action|Science Fiction   \n",
       "\n",
       "                production_countries_clean       director  \n",
       "0                 United States of America      Joe Russo  \n",
       "1  United States of America|United Kingdom  James Cameron  \n",
       "2                 United States of America    J.J. Abrams  "
      ]
     },
     "metadata": {},
     "output_type": "display_data"
    }
   ],
   "source": [
    "# Data cleaning summary\n",
    "print(f\"Final dataset: {movies_df.shape}\")\n",
    "\n",
    "# Show sample of cleaned data\n",
    "sample_columns = ['title', 'release_date', 'genre_names', 'production_countries_clean', 'director']\n",
    "available_columns = [col for col in sample_columns if col in movies_df.columns]\n",
    "if available_columns:\n",
    "    display(movies_df[available_columns].head(3))"
   ]
  },
  {
   "cell_type": "markdown",
   "id": "9c9f65ed",
   "metadata": {},
   "source": [
    "## Step 3: Exploratory Data Analysis (EDA)\n",
    "\n",
    "Now we'll perform comprehensive exploratory analysis to understand trends, patterns, and insights in our movie dataset."
   ]
  },
  {
   "cell_type": "code",
   "execution_count": 119,
   "id": "369c80e8",
   "metadata": {},
   "outputs": [
    {
     "name": "stdout",
     "output_type": "stream",
     "text": [
      "Total movies: 18\n",
      "Date range: 1997-11-18 to 2019-11-20\n",
      "Movies with budget data: 18/18\n",
      "Average budget: $215,444,444\n",
      "Average revenue: $1,691,831,828\n",
      "Average ROI: 718.0%\n",
      "Average rating: 7.39/10\n",
      "Average votes: 20,308\n",
      "Average runtime: 138 minutes\n"
     ]
    }
   ],
   "source": [
    "# Basic dataset statistics\n",
    "print(f\"Total movies: {len(movies_df)}\")\n",
    "print(f\"Date range: {movies_df['release_date'].min()} to {movies_df['release_date'].max()}\")\n",
    "\n",
    "# Financial analysis\n",
    "financial_data = movies_df[movies_df['budget'] > 0]\n",
    "print(f\"Movies with budget data: {len(financial_data)}/{len(movies_df)}\")\n",
    "\n",
    "if len(financial_data) > 0:\n",
    "    print(f\"Average budget: ${financial_data['budget'].mean():,.0f}\")\n",
    "    print(f\"Average revenue: ${financial_data['revenue'].mean():,.0f}\")\n",
    "    \n",
    "    roi_data = financial_data[(financial_data['budget'] > 0) & (financial_data['revenue'] > 0)]\n",
    "    if len(roi_data) > 0:\n",
    "        roi_data['roi'] = ((roi_data['revenue'] - roi_data['budget']) / roi_data['budget']) * 100\n",
    "        print(f\"Average ROI: {roi_data['roi'].mean():.1f}%\")\n",
    "\n",
    "# Rating analysis\n",
    "print(f\"Average rating: {movies_df['vote_average'].mean():.2f}/10\")\n",
    "print(f\"Average votes: {movies_df['vote_count'].mean():,.0f}\")\n",
    "\n",
    "# Runtime analysis\n",
    "runtime_data = movies_df[movies_df['runtime'].notna() & (movies_df['runtime'] > 0)]\n",
    "if len(runtime_data) > 0:\n",
    "    print(f\"Average runtime: {runtime_data['runtime'].mean():.0f} minutes\")"
   ]
  },
  {
   "cell_type": "code",
   "execution_count": 120,
   "id": "85bd38ff",
   "metadata": {},
   "outputs": [
    {
     "name": "stdout",
     "output_type": "stream",
     "text": [
      "TOP 5 BY RATING:\n",
      "  8.2 - Avengers: Endgame (2019)\n",
      "  8.2 - Avengers: Infinity War (2018)\n",
      "  8.1 - Harry Potter and the Deathly Hallows: Part 2 (2011)\n",
      "  7.9 - Titanic (1997)\n",
      "  7.8 - The Avengers (2012)\n",
      "\n",
      "TOP 5 BY REVENUE:\n",
      "  $2924M - Avatar (2009)\n",
      "  $2799M - Avengers: Endgame (2019)\n",
      "  $2264M - Titanic (1997)\n",
      "  $2068M - Star Wars: The Force Awakens (2015)\n",
      "  $2052M - Avengers: Infinity War (2018)\n",
      "\n",
      "TOP 5 BY ROI:\n",
      "  1,134% - Avatar\n",
      "  1,032% - Titanic\n",
      "  1,014% - Jurassic World\n",
      "  973% - Harry Potter and the Deathly Hallows: Part 2\n",
      "  869% - Frozen II\n",
      "\n",
      "TOP 5 BY POPULARITY:\n",
      "  46.4 - The Avengers (2012)\n",
      "  30.1 - Avengers: Infinity War (2018)\n",
      "  23.1 - Titanic (1997)\n",
      "  21.0 - Avatar (2009)\n",
      "  20.6 - Frozen (2013)\n"
     ]
    }
   ],
   "source": [
    "# Top performers analysis\n",
    "print(\"TOP 5 BY RATING:\")\n",
    "top_rated = movies_df.nlargest(5, 'vote_average')[['title', 'vote_average', 'release_date']]\n",
    "for idx, movie in top_rated.iterrows():\n",
    "    print(f\"  {movie['vote_average']:.1f} - {movie['title']} ({movie['release_date'][:4]})\")\n",
    "\n",
    "print(\"\\nTOP 5 BY REVENUE:\")\n",
    "revenue_data = movies_df[movies_df['revenue'] > 0].nlargest(5, 'revenue')\n",
    "for idx, movie in revenue_data.iterrows():\n",
    "    print(f\"  ${movie['revenue']/1_000_000:.0f}M - {movie['title']} ({movie['release_date'][:4]})\")\n",
    "\n",
    "# ROI leaders\n",
    "roi_movies = movies_df[(movies_df['budget'] > 0) & (movies_df['revenue'] > 0)].copy()\n",
    "if len(roi_movies) > 0:\n",
    "    roi_movies['roi'] = ((roi_movies['revenue'] - roi_movies['budget']) / roi_movies['budget']) * 100\n",
    "    \n",
    "    print(\"\\nTOP 5 BY ROI:\")\n",
    "    top_roi = roi_movies.nlargest(5, 'roi')\n",
    "    for idx, movie in top_roi.iterrows():\n",
    "        print(f\"  {movie['roi']:,.0f}% - {movie['title']}\")\n",
    "\n",
    "print(\"\\nTOP 5 BY POPULARITY:\")\n",
    "top_popular = movies_df.nlargest(5, 'popularity')[['title', 'popularity', 'release_date']]\n",
    "for idx, movie in top_popular.iterrows():\n",
    "    print(f\"  {movie['popularity']:.1f} - {movie['title']} ({movie['release_date'][:4]})\")"
   ]
  },
  {
   "cell_type": "code",
   "execution_count": 121,
   "id": "79d6171f",
   "metadata": {},
   "outputs": [
    {
     "name": "stdout",
     "output_type": "stream",
     "text": [
      "GENRE ANALYSIS:\n",
      "Most popular genres:\n",
      "  Adventure: 15 movies\n",
      "  Action: 12 movies\n",
      "  Science Fiction: 10 movies\n",
      "  Fantasy: 5 movies\n",
      "  Family: 5 movies\n",
      "\n",
      "DIRECTOR ANALYSIS:\n",
      "Directors with multiple movies:\n",
      "  James Cameron: 2 movies, 7.7\n",
      "  Joss Whedon: 2 movies, 7.5\n",
      "Highest rated directors:\n",
      "  8.2 Joe Russo\n",
      "  8.2 Anthony Russo\n",
      "  8.1 David Yates\n",
      "  7.7 James Cameron\n",
      "  7.5 Joss Whedon\n"
     ]
    }
   ],
   "source": [
    "# Genre and director analysis\n",
    "print(\"GENRE ANALYSIS:\")\n",
    "all_genres = []\n",
    "for genre_string in movies_df['genre_names']:\n",
    "    if isinstance(genre_string, str) and genre_string:\n",
    "        genres = [g.strip() for g in genre_string.split('|')]\n",
    "        all_genres.extend(genres)\n",
    "\n",
    "if all_genres:\n",
    "    genre_counts = pd.Series(all_genres).value_counts()\n",
    "    print(\"Most popular genres:\")\n",
    "    for genre, count in genre_counts.head(5).items():\n",
    "        print(f\"  {genre}: {count} movies\")\n",
    "\n",
    "# Director analysis\n",
    "print(\"\\nDIRECTOR ANALYSIS:\")\n",
    "director_data = movies_df[movies_df['director'].notna() & (movies_df['director'] != '')]\n",
    "if len(director_data) > 0:\n",
    "    director_counts = director_data['director'].value_counts()\n",
    "    multiple_movies = director_counts[director_counts > 1]\n",
    "    \n",
    "    if len(multiple_movies) > 0:\n",
    "        print(\"Directors with multiple movies:\")\n",
    "        for director, count in multiple_movies.head(3).items():\n",
    "            director_movies = director_data[director_data['director'] == director]\n",
    "            avg_rating = director_movies['vote_average'].mean()\n",
    "            print(f\"  {director}: {count} movies, {avg_rating:.1f}\")\n",
    "    \n",
    "    # Top-rated directors\n",
    "    print(\"Highest rated directors:\")\n",
    "    director_ratings = director_data.groupby('director')['vote_average'].mean().sort_values(ascending=False)\n",
    "    for director, rating in director_ratings.head(5).items():\n",
    "        print(f\"  {rating:.1f} {director}\")"
   ]
  },
  {
   "cell_type": "code",
   "execution_count": 122,
   "id": "211f4816",
   "metadata": {},
   "outputs": [
    {
     "name": "stdout",
     "output_type": "stream",
     "text": [
      "MOVIES BY DECADE:\n",
      "  1990s: 1 movies\n",
      "  2000s: 1 movies\n",
      "  2010s: 16 movies\n",
      "\n",
      "MOVIES BY YEAR:\n",
      "  1997: 1 movies\n",
      "  2009: 1 movies\n",
      "  2011: 1 movies\n",
      "  2012: 1 movies\n",
      "  2013: 1 movies\n",
      "  2015: 4 movies\n",
      "  2017: 2 movies\n",
      "  2018: 4 movies\n",
      "  2019: 3 movies\n",
      "\n",
      "TRENDS BY DECADE:\n",
      "  1990s: 7.9, avg budget $200M, avg revenue $2264M\n",
      "  2000s: 7.6, avg budget $237M, avg revenue $2924M\n",
      "  2010s: 7.3, avg budget $215M, avg revenue $1579M\n"
     ]
    }
   ],
   "source": [
    "# Temporal analysis\n",
    "movies_df['release_year'] = pd.to_datetime(movies_df['release_date']).dt.year\n",
    "movies_df['release_decade'] = (movies_df['release_year'] // 10) * 10\n",
    "\n",
    "print(\"MOVIES BY DECADE:\")\n",
    "decade_counts = movies_df['release_decade'].value_counts().sort_index()\n",
    "for decade, count in decade_counts.items():\n",
    "    print(f\"  {decade}s: {count} movies\")\n",
    "\n",
    "print(\"\\nMOVIES BY YEAR:\")\n",
    "year_counts = movies_df['release_year'].value_counts().sort_index()\n",
    "for year, count in year_counts.items():\n",
    "    print(f\"  {year}: {count} movies\")\n",
    "\n",
    "# Trends over time\n",
    "print(\"\\nTRENDS BY DECADE:\")\n",
    "temporal_analysis = movies_df.groupby('release_decade').agg({\n",
    "    'vote_average': 'mean',\n",
    "    'budget': lambda x: x[x > 0].mean() if len(x[x > 0]) > 0 else 0,\n",
    "    'revenue': lambda x: x[x > 0].mean() if len(x[x > 0]) > 0 else 0\n",
    "}).round(2)\n",
    "\n",
    "for decade, data in temporal_analysis.iterrows():\n",
    "    budget_text = f\", avg budget ${data['budget']/1_000_000:.0f}M\" if data['budget'] > 0 else \"\"\n",
    "    revenue_text = f\", avg revenue ${data['revenue']/1_000_000:.0f}M\" if data['revenue'] > 0 else \"\"\n",
    "    print(f\"  {decade}s: {data['vote_average']:.1f}{budget_text}{revenue_text}\")"
   ]
  },
  {
   "cell_type": "code",
   "execution_count": 123,
   "id": "ca1f958a",
   "metadata": {},
   "outputs": [
    {
     "name": "stdout",
     "output_type": "stream",
     "text": [
      "PRODUCTION COUNTRIES:\n",
      "Most active countries:\n",
      "  United States of America: 18 movies\n",
      "  United Kingdom: 2 movies\n",
      "\n",
      "PRODUCTION COMPANIES:\n",
      "Most active companies:\n",
      "  Marvel Studios: 5 movies\n",
      "  Universal Pictures: 3 movies\n",
      "  20th Century Fox: 2 movies\n",
      "  Lightstorm Entertainment: 2 movies\n",
      "  Walt Disney Animation Studios: 2 movies\n"
     ]
    }
   ],
   "source": [
    "# Production analysis\n",
    "print(\"PRODUCTION COUNTRIES:\")\n",
    "all_countries = []\n",
    "for country_string in movies_df['production_countries_clean']:\n",
    "    if isinstance(country_string, str) and country_string:\n",
    "        countries = [c.strip() for c in country_string.split('|')]\n",
    "        all_countries.extend(countries)\n",
    "\n",
    "if all_countries:\n",
    "    country_counts = pd.Series(all_countries).value_counts()\n",
    "    print(\"Most active countries:\")\n",
    "    for country, count in country_counts.head(5).items():\n",
    "        print(f\"  {country}: {count} movies\")\n",
    "\n",
    "print(\"\\nPRODUCTION COMPANIES:\")\n",
    "all_companies = []\n",
    "for company_string in movies_df['production_companies_clean']:\n",
    "    if isinstance(company_string, str) and company_string:\n",
    "        companies = [c.strip() for c in company_string.split('|')]\n",
    "        all_companies.extend(companies)\n",
    "\n",
    "if all_companies:\n",
    "    company_counts = pd.Series(all_companies).value_counts()\n",
    "    print(\"Most active companies:\")\n",
    "    for company, count in company_counts.head(5).items():\n",
    "        print(f\"  {company}: {count} movies\")"
   ]
  },
  {
   "cell_type": "code",
   "execution_count": 124,
   "id": "ad2f8458",
   "metadata": {},
   "outputs": [
    {
     "name": "stdout",
     "output_type": "stream",
     "text": [
      "DATASET OVERVIEW:\n",
      "  Movies: 18\n",
      "  Time period: 1997-11-18 to 2019-11-20\n",
      "  Average rating: 7.39/10\n",
      "  Movies with financial data: 18\n",
      "\n",
      "KEY INSIGHTS:\n",
      "  Highest rated: Avengers: Endgame (8.238/10)\n",
      "  Highest revenue: Avatar ($2,923,706,026)\n",
      "  Best ROI: Avatar (1134%)\n",
      "  Most common genre: Adventure (15 movies)\n",
      "\n",
      "EDA Complete!\n"
     ]
    }
   ],
   "source": [
    "# EDA summary and key insights\n",
    "total_movies = len(movies_df)\n",
    "avg_rating = movies_df['vote_average'].mean()\n",
    "financial_movies = movies_df[(movies_df['budget'] > 0) & (movies_df['revenue'] > 0)]\n",
    "\n",
    "print(\"DATASET OVERVIEW:\")\n",
    "print(f\"  Movies: {total_movies}\")\n",
    "print(f\"  Time period: {movies_df['release_date'].min()} to {movies_df['release_date'].max()}\")\n",
    "print(f\"  Average rating: {avg_rating:.2f}/10\")\n",
    "print(f\"  Movies with financial data: {len(financial_movies)}\")\n",
    "\n",
    "print(\"\\nKEY INSIGHTS:\")\n",
    "\n",
    "# Highest rated\n",
    "highest_rated = movies_df.loc[movies_df['vote_average'].idxmax()]\n",
    "print(f\"  Highest rated: {highest_rated['title']} ({highest_rated['vote_average']}/10)\")\n",
    "\n",
    "# Financial insights\n",
    "if len(financial_movies) > 0:\n",
    "    most_profitable = financial_movies.loc[financial_movies['revenue'].idxmax()]\n",
    "    print(f\"  Highest revenue: {most_profitable['title']} (${most_profitable['revenue']:,.0f})\")\n",
    "    \n",
    "    roi_data = financial_movies.copy()\n",
    "    roi_data['roi'] = ((roi_data['revenue'] - roi_data['budget']) / roi_data['budget']) * 100\n",
    "    best_roi = roi_data.loc[roi_data['roi'].idxmax()]\n",
    "    print(f\"  Best ROI: {best_roi['title']} ({best_roi['roi']:.0f}%)\")\n",
    "\n",
    "# Popular genre\n",
    "all_genres = []\n",
    "for genre_string in movies_df['genre_names']:\n",
    "    if isinstance(genre_string, str) and genre_string:\n",
    "        all_genres.extend([g.strip() for g in genre_string.split('|')])\n",
    "\n",
    "if all_genres:\n",
    "    most_common_genre = pd.Series(all_genres).value_counts().index[0]\n",
    "    genre_count = pd.Series(all_genres).value_counts().iloc[0]\n",
    "    print(f\"  Most common genre: {most_common_genre} ({genre_count} movies)\")\n",
    "\n",
    "print(\"\\nEDA Complete!\")"
   ]
  },
  {
   "cell_type": "markdown",
   "id": "22a13c34",
   "metadata": {},
   "source": [
    "## Step 4: Movie Filtering and Ranking\n",
    "\n",
    "Basic filtering and ranking of movies by different criteria."
   ]
  },
  {
   "cell_type": "code",
   "execution_count": 125,
   "id": "27f5b03e",
   "metadata": {},
   "outputs": [
    {
     "name": "stdout",
     "output_type": "stream",
     "text": [
      "High rated movies (8.0+): 3\n",
      "  8.2 - Avengers: Endgame (2019)\n",
      "  8.2 - Avengers: Infinity War (2018)\n",
      "  8.1 - Harry Potter and the Deathly Hallows: Part 2 (2011)\n",
      "\n",
      "Action movies: 12\n",
      "Top action movies:\n",
      "  8.2 - Avengers: Endgame\n",
      "  8.2 - Avengers: Infinity War\n",
      "  7.8 - The Avengers\n",
      "\n",
      "Recent movies (2010+): 16\n"
     ]
    }
   ],
   "source": [
    "# Filter movies by rating\n",
    "high_rated = movies_df[movies_df['vote_average'] >= 8.0]\n",
    "print(f\"High rated movies (8.0+): {len(high_rated)}\")\n",
    "if len(high_rated) > 0:\n",
    "    for idx, movie in high_rated.iterrows():\n",
    "        print(f\"  {movie['vote_average']:.1f} - {movie['title']} ({movie['release_date'][:4]})\")\n",
    "\n",
    "# Filter by genre\n",
    "action_movies = movies_df[movies_df['genre_names'].str.contains('Action', case=False, na=False)]\n",
    "print(f\"\\nAction movies: {len(action_movies)}\")\n",
    "if len(action_movies) > 0:\n",
    "    print(\"Top action movies:\")\n",
    "    for idx, movie in action_movies.nlargest(3, 'vote_average').iterrows():\n",
    "        print(f\"  {movie['vote_average']:.1f} - {movie['title']}\")\n",
    "\n",
    "# Filter by year\n",
    "recent_movies = movies_df[movies_df['release_year'] >= 2010]\n",
    "print(f\"\\nRecent movies (2010+): {len(recent_movies)}\")"
   ]
  },
  {
   "cell_type": "code",
   "execution_count": 126,
   "id": "027aba80",
   "metadata": {},
   "outputs": [
    {
     "name": "stdout",
     "output_type": "stream",
     "text": [
      "TOP 5 BY RATING:\n",
      "  8.2 - Avengers: Endgame\n",
      "  8.2 - Avengers: Infinity War\n",
      "  8.1 - Harry Potter and the Deathly Hallows: Part 2\n",
      "  7.9 - Titanic\n",
      "  7.8 - The Avengers\n",
      "\n",
      "TOP 5 BY POPULARITY:\n",
      "  46.4 - The Avengers\n",
      "  30.1 - Avengers: Infinity War\n",
      "  23.1 - Titanic\n",
      "  21.0 - Avatar\n",
      "  20.6 - Frozen\n",
      "\n",
      "MOST PROFITABLE:\n",
      "  $2687M - Avatar\n",
      "  $2443M - Avengers: Endgame\n",
      "  $2064M - Titanic\n"
     ]
    }
   ],
   "source": [
    "# Rank movies by different criteria\n",
    "print(\"TOP 5 BY RATING:\")\n",
    "top_rated = movies_df.nlargest(5, 'vote_average')\n",
    "for idx, movie in top_rated.iterrows():\n",
    "    print(f\"  {movie['vote_average']:.1f} - {movie['title']}\")\n",
    "\n",
    "print(\"\\nTOP 5 BY POPULARITY:\")\n",
    "top_popular = movies_df.nlargest(5, 'popularity')\n",
    "for idx, movie in top_popular.iterrows():\n",
    "    print(f\"  {movie['popularity']:.1f} - {movie['title']}\")\n",
    "\n",
    "# Simple ROI calculation\n",
    "financial_movies = movies_df[(movies_df['budget'] > 0) & (movies_df['revenue'] > 0)].copy()\n",
    "if len(financial_movies) > 0:\n",
    "    financial_movies['profit'] = financial_movies['revenue'] - financial_movies['budget']\n",
    "    print(\"\\nMOST PROFITABLE:\")\n",
    "    for idx, movie in financial_movies.nlargest(3, 'profit').iterrows():\n",
    "        profit_m = movie['profit'] / 1_000_000\n",
    "        print(f\"  ${profit_m:.0f}M - {movie['title']}\")"
   ]
  },
  {
   "cell_type": "markdown",
   "id": "1f86b800",
   "metadata": {},
   "source": [
    "## Step 5: Director Analysis\n",
    "\n",
    "Simple analysis of director performance in the dataset."
   ]
  },
  {
   "cell_type": "code",
   "execution_count": 127,
   "id": "60f9582e",
   "metadata": {},
   "outputs": [
    {
     "name": "stdout",
     "output_type": "stream",
     "text": [
      "Directors with multiple movies:\n",
      "  James Cameron: 2 movies\n",
      "  Joss Whedon: 2 movies\n",
      "\n",
      "Top directors by average rating:\n",
      "  8.2 - Joe Russo (1 movies)\n",
      "  8.2 - Anthony Russo (1 movies)\n",
      "  8.1 - David Yates (1 movies)\n",
      "  7.7 - James Cameron (2 movies)\n",
      "  7.5 - Joss Whedon (2 movies)\n"
     ]
    }
   ],
   "source": [
    "# Analyze directors in the dataset\n",
    "director_data = movies_df[movies_df['director'].notna() & (movies_df['director'] != '')]\n",
    "\n",
    "if len(director_data) > 0:\n",
    "    # Count movies per director\n",
    "    director_counts = director_data['director'].value_counts()\n",
    "    print(\"Directors with multiple movies:\")\n",
    "    multiple_movies = director_counts[director_counts > 1]\n",
    "    for director, count in multiple_movies.items():\n",
    "        print(f\"  {director}: {count} movies\")\n",
    "    \n",
    "    # Average ratings by director\n",
    "    director_ratings = director_data.groupby('director')['vote_average'].mean().sort_values(ascending=False)\n",
    "    print(f\"\\nTop directors by average rating:\")\n",
    "    for director, rating in director_ratings.head(5).items():\n",
    "        movie_count = director_counts[director]\n",
    "        print(f\"  {rating:.1f} - {director} ({movie_count} movies)\")\n",
    "else:\n",
    "    print(\"No director data available\")"
   ]
  },
  {
   "cell_type": "markdown",
   "id": "8fdcab65",
   "metadata": {},
   "source": [
    "## Step 6: Basic Visualizations\n",
    "\n",
    "Simple charts to visualize the movie data."
   ]
  },
  {
   "cell_type": "code",
   "execution_count": 128,
   "id": "abff5b42",
   "metadata": {},
   "outputs": [
    {
     "name": "stdout",
     "output_type": "stream",
     "text": [
      "Creating basic visualizations...\n"
     ]
    },
    {
     "data": {
      "image/png": "[encoded data removed]",
      "text/plain": [
       "<Figure size 1200x1000 with 4 Axes>"
      ]
     },
     "metadata": {},
     "output_type": "display_data"
    }
   ],
   "source": [
    "# Simple visualizations\n",
    "if VISUALIZATION_AVAILABLE:\n",
    "    print(\"Creating basic visualizations...\")\n",
    "    \n",
    "    fig, axes = plt.subplots(2, 2, figsize=(12, 10))\n",
    "    \n",
    "    # Rating distribution\n",
    "    axes[0, 0].hist(movies_df['vote_average'], bins=10, alpha=0.7)\n",
    "    axes[0, 0].set_title('Rating Distribution')\n",
    "    axes[0, 0].set_xlabel('Rating')\n",
    "    axes[0, 0].set_ylabel('Count')\n",
    "    \n",
    "    # Movies by decade\n",
    "    decade_counts = movies_df['release_decade'].value_counts().sort_index()\n",
    "    axes[0, 1].bar(decade_counts.index, decade_counts.values)\n",
    "    axes[0, 1].set_title('Movies by Decade')\n",
    "    axes[0, 1].set_xlabel('Decade')\n",
    "    axes[0, 1].set_ylabel('Count')\n",
    "    \n",
    "    # Top genres\n",
    "    all_genres = []\n",
    "    for genre_string in movies_df['genre_names']:\n",
    "        if isinstance(genre_string, str) and genre_string:\n",
    "            all_genres.extend([g.strip() for g in genre_string.split('|')])\n",
    "    \n",
    "    if all_genres:\n",
    "        genre_counts = pd.Series(all_genres).value_counts().head(6)\n",
    "        axes[1, 0].barh(genre_counts.index, genre_counts.values)\n",
    "        axes[1, 0].set_title('Top Genres')\n",
    "        axes[1, 0].set_xlabel('Count')\n",
    "    \n",
    "    # Budget vs Revenue\n",
    "    financial_data = movies_df[(movies_df['budget'] > 0) & (movies_df['revenue'] > 0)]\n",
    "    if len(financial_data) > 0:\n",
    "        axes[1, 1].scatter(financial_data['budget']/1_000_000, financial_data['revenue']/1_000_000)\n",
    "        axes[1, 1].set_title('Budget vs Revenue')\n",
    "        axes[1, 1].set_xlabel('Budget (M$)')\n",
    "        axes[1, 1].set_ylabel('Revenue (M$)')\n",
    "    \n",
    "    plt.tight_layout()\n",
    "    plt.show()\n",
    "    \n",
    "else:\n",
    "    print(\"Visualization libraries not available\")"
   ]
  },
  {
   "cell_type": "code",
   "execution_count": 129,
   "id": "97b19bb2",
   "metadata": {},
   "outputs": [
    {
     "name": "stdout",
     "output_type": "stream",
     "text": [
      "MOVIE ANALYSIS SUMMARY\n",
      "========================================\n",
      "Total movies analyzed: 18\n",
      "Average rating: 7.39\n",
      "Highest rated: Avengers: Endgame (8.238/10)\n",
      "Most common genre: Adventure\n",
      "Highest revenue: Avatar ($2,923,706,026)\n"
     ]
    }
   ],
   "source": [
    "# Summary of findings\n",
    "print(\"MOVIE ANALYSIS SUMMARY\")\n",
    "print(\"=\" * 40)\n",
    "\n",
    "print(f\"Total movies analyzed: {len(movies_df)}\")\n",
    "print(f\"Average rating: {movies_df['vote_average'].mean():.2f}\")\n",
    "\n",
    "# Best movie\n",
    "best_movie = movies_df.loc[movies_df['vote_average'].idxmax()]\n",
    "print(f\"Highest rated: {best_movie['title']} ({best_movie['vote_average']}/10)\")\n",
    "\n",
    "# Most popular genres\n",
    "all_genres = []\n",
    "for genre_string in movies_df['genre_names']:\n",
    "    if isinstance(genre_string, str) and genre_string:\n",
    "        all_genres.extend([g.strip() for g in genre_string.split('|')])\n",
    "\n",
    "if all_genres:\n",
    "    most_common_genre = pd.Series(all_genres).value_counts().index[0]\n",
    "    print(f\"Most common genre: {most_common_genre}\")\n",
    "\n",
    "# Financial data\n",
    "financial_movies = movies_df[(movies_df['budget'] > 0) & (movies_df['revenue'] > 0)]\n",
    "if len(financial_movies) > 0:\n",
    "    highest_revenue = financial_movies.loc[financial_movies['revenue'].idxmax()]\n",
    "    print(f\"Highest revenue: {highest_revenue['title']} (${highest_revenue['revenue']:,})\")"
   ]
  },
  {
   "cell_type": "code",
   "execution_count": null,
   "id": "6dfc3eae-e30c-442f-bc72-0b80e752fd39",
   "metadata": {},
   "outputs": [],
   "source": []
  }
 ],
 "metadata": {
  "kernelspec": {
   "display_name": "Python 3 (ipykernel)",
   "language": "python",
   "name": "python3"
  },
  "language_info": {
   "codemirror_mode": {
    "name": "ipython",
    "version": 3
   },
   "file_extension": ".py",
   "mimetype": "text/x-python",
   "name": "python",
   "nbconvert_exporter": "python",
   "pygments_lexer": "ipython3",
   "version": "3.13.5"
  }
 },
 "nbformat": 4,
 "nbformat_minor": 5
}
